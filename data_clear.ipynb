{
 "cells": [
  {
   "cell_type": "code",
   "execution_count": 1,
   "metadata": {
    "collapsed": true
   },
   "outputs": [],
   "source": [
    "import pandas as pd\n",
    "import json as js"
   ]
  },
  {
   "cell_type": "code",
   "execution_count": 2,
   "metadata": {},
   "outputs": [
    {
     "name": "stdout",
     "output_type": "stream",
     "text": [
      "aaa aab aac aad aae aaf aag aah aai aaj aak aal aam aan aao aap aaq aar aas aat aau aav aaw aax aay aaz aba abb abc abd abe abf abg abh abi abj abk abl abm abn abo abp abq abr abs abt abu abv abw abx aby abz aca acb acc acd ace acf acg ach aci acj ack acl acm acn aco acp acq acr acs act acu acv acw acx acy acz ada adb adc add ade adf adg adh adi adj adk adl 864794733\n"
     ]
    }
   ],
   "source": [
    "le=0\n",
    "#columns=['msno','x_login_type','song_id','played_at','song_length','played_length']\n",
    "for x in range(97,101,1):\n",
    "    for y in range(97,123,1):\n",
    "        m='a'+chr(x) + chr(y)\n",
    "        dataset=pd.read_csv(m,sep='\\t')\n",
    "        dataset=dataset.drop(['song_length','played_length'],axis=1)\n",
    "        #dataset=dataset[dataset['year']==2016]\n",
    "        #dataset=dataset[dataset['month']==12]\n",
    "        #dataset=dataset[dataset['song_length']!=0]\n",
    "        \n",
    "        dataset.to_csv(m,sep='\\t',encoding='utf-8',index=False)\n",
    "        le=le+len(dataset)\n",
    "        print m,\n",
    "        if (x==100 and y==108):\n",
    "            break\n",
    "print le"
   ]
  },
  {
   "cell_type": "code",
   "execution_count": 3,
   "metadata": {
    "scrolled": true
   },
   "outputs": [],
   "source": [
    "#c=b[b['month']==12]  9518090\n"
   ]
  },
  {
   "cell_type": "code",
   "execution_count": null,
   "metadata": {
    "collapsed": true
   },
   "outputs": [],
   "source": []
  }
 ],
 "metadata": {
  "kernelspec": {
   "display_name": "Python 2",
   "language": "python",
   "name": "python2"
  },
  "language_info": {
   "codemirror_mode": {
    "name": "ipython",
    "version": 2
   },
   "file_extension": ".py",
   "mimetype": "text/x-python",
   "name": "python",
   "nbconvert_exporter": "python",
   "pygments_lexer": "ipython2",
   "version": "2.7.13"
  }
 },
 "nbformat": 4,
 "nbformat_minor": 2
}
