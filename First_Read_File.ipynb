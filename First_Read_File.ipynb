{
 "cells": [
  {
   "cell_type": "markdown",
   "metadata": {
    "collapsed": true
   },
   "source": [
    "## Import library"
   ]
  },
  {
   "cell_type": "code",
   "execution_count": null,
   "metadata": {
    "collapsed": true
   },
   "outputs": [],
   "source": [
    "import pandas as pd\n",
    "import numpy as np\n",
    "import time as tm"
   ]
  },
  {
   "cell_type": "markdown",
   "metadata": {},
   "source": [
    "## Read Data and Clear Data"
   ]
  },
  {
   "cell_type": "code",
   "execution_count": null,
   "metadata": {
    "scrolled": true
   },
   "outputs": [],
   "source": [
    "size=0\n",
    "start_time=tm.time()\n",
    "columns=['msno','x_login_type','song_id','played_at','song_length','played_length']\n",
    "for i in range(97,101,1):\n",
    "    for j in range(97,123,1):\n",
    "        file_name='1'+chr(i)+chr(j)\n",
    "        if(file_name=='1aa'):\n",
    "            df=pd.read_csv(file_name,sep='\\t')\n",
    "        else:\n",
    "            df=pd.read_csv(file_name,sep='\\t',names=columns)\n",
    "        df['played_at']=pd.to_datetime(df['played_at'])\n",
    "        df['year']=df['played_at'].dt.year\n",
    "        df['month']=df['played_at'].dt.month\n",
    "        df['day']=df['played_at'].dt.day\n",
    "        df=df[df['year']==2016]\n",
    "        df=df[df['month']==12]\n",
    "        df=df[df['song_length']!=0]\n",
    "        df.drop(['year','month','day','played_at','x_login_type','song_length','played_length'], axis=1, inplace=True)\n",
    "        df.to_csv(file_name,sep='\\t',encoding='utf-8',index=False)\n",
    "        size=size+len(df)\n",
    "        if(i==100 and j==108):\n",
    "            break\n",
    "end_time=tm.time()-start_time\n",
    "print ('Data_size:%d Process_time:%d'%(size,end_time))"
   ]
  },
  {
   "cell_type": "code",
   "execution_count": null,
   "metadata": {
    "collapsed": true
   },
   "outputs": [],
   "source": []
  }
 ],
 "metadata": {
  "kernelspec": {
   "display_name": "Python 3",
   "language": "python",
   "name": "python3"
  },
  "language_info": {
   "codemirror_mode": {
    "name": "ipython",
    "version": 3
   },
   "file_extension": ".py",
   "mimetype": "text/x-python",
   "name": "python",
   "nbconvert_exporter": "python",
   "pygments_lexer": "ipython3",
   "version": "3.6.3"
  }
 },
 "nbformat": 4,
 "nbformat_minor": 2
}
