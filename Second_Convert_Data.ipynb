{
 "cells": [
  {
   "cell_type": "markdown",
   "metadata": {},
   "source": [
    "## Import Library"
   ]
  },
  {
   "cell_type": "code",
   "execution_count": 1,
   "metadata": {
    "collapsed": true
   },
   "outputs": [],
   "source": [
    "import pandas as pd\n",
    "import numpy as np\n",
    "import time as tm"
   ]
  },
  {
   "cell_type": "markdown",
   "metadata": {},
   "source": [
    "## Read Data and Convert Data"
   ]
  },
  {
   "cell_type": "code",
   "execution_count": 2,
   "metadata": {
    "scrolled": true
   },
   "outputs": [
    {
     "name": "stdout",
     "output_type": "stream",
     "text": [
      "File_name:1aa Data_size:9687301\n",
      "File_name:1ab Data_size:9700188\n",
      "File_name:1ac Data_size:9705197\n",
      "File_name:1ad Data_size:9732410\n",
      "File_name:1ae Data_size:9765015\n",
      "File_name:1af Data_size:9770643\n",
      "File_name:1ag Data_size:9783438\n",
      "File_name:1ah Data_size:9844810\n",
      "File_name:1ai Data_size:9850995\n",
      "File_name:1aj Data_size:9855871\n",
      "File_name:1ak Data_size:9850763\n",
      "File_name:1al Data_size:9860679\n",
      "File_name:1am Data_size:9853942\n",
      "File_name:1an Data_size:9850046\n",
      "File_name:1ao Data_size:9824256\n",
      "File_name:1ap Data_size:9794509\n",
      "File_name:1aq Data_size:9735526\n",
      "File_name:1ar Data_size:9705996\n",
      "File_name:1as Data_size:9679172\n",
      "File_name:1at Data_size:9724253\n",
      "File_name:1au Data_size:9757820\n",
      "File_name:1av Data_size:9709329\n",
      "File_name:1aw Data_size:9668192\n",
      "File_name:1ax Data_size:9703546\n",
      "File_name:1ay Data_size:9729828\n",
      "File_name:1az Data_size:9686017\n",
      "File_name:1ba Data_size:9716124\n",
      "File_name:1bb Data_size:9735322\n",
      "File_name:1bc Data_size:9609188\n",
      "File_name:1bd Data_size:9694503\n",
      "File_name:1be Data_size:9681599\n",
      "File_name:1bf Data_size:9560552\n",
      "File_name:1bg Data_size:9561708\n",
      "File_name:1bh Data_size:9640248\n",
      "File_name:1bi Data_size:9668514\n",
      "File_name:1bj Data_size:9708346\n",
      "File_name:1bk Data_size:9634289\n",
      "File_name:1bl Data_size:9599928\n",
      "File_name:1bm Data_size:9601911\n",
      "File_name:1bn Data_size:9703222\n",
      "File_name:1bo Data_size:9743640\n",
      "File_name:1bp Data_size:9729293\n",
      "File_name:1bq Data_size:9753045\n",
      "File_name:1br Data_size:9748576\n",
      "File_name:1bs Data_size:9788164\n",
      "File_name:1bt Data_size:9781480\n",
      "File_name:1bu Data_size:9771979\n",
      "File_name:1bv Data_size:9768742\n",
      "File_name:1bw Data_size:9557469\n",
      "File_name:1bx Data_size:9500404\n",
      "File_name:1by Data_size:9425212\n",
      "File_name:1bz Data_size:9557471\n",
      "File_name:1ca Data_size:9537824\n",
      "File_name:1cb Data_size:9733748\n",
      "File_name:1cc Data_size:9763536\n",
      "File_name:1cd Data_size:9527613\n",
      "File_name:1ce Data_size:9404952\n",
      "File_name:1cf Data_size:9461886\n",
      "File_name:1cg Data_size:9241139\n",
      "File_name:1ch Data_size:9410046\n",
      "File_name:1ci Data_size:9318411\n",
      "File_name:1cj Data_size:9689690\n",
      "File_name:1ck Data_size:9681076\n",
      "File_name:1cl Data_size:9559227\n",
      "File_name:1cm Data_size:9579599\n",
      "File_name:1cn Data_size:9739736\n",
      "File_name:1co Data_size:9255106\n",
      "File_name:1cp Data_size:8902243\n",
      "File_name:1cq Data_size:8776418\n",
      "File_name:1cr Data_size:9303925\n",
      "File_name:1cs Data_size:9477344\n",
      "File_name:1ct Data_size:9415459\n",
      "File_name:1cu Data_size:9595944\n",
      "File_name:1cv Data_size:9847574\n",
      "File_name:1cw Data_size:9751441\n",
      "File_name:1cx Data_size:9654603\n",
      "File_name:1cy Data_size:9748849\n",
      "File_name:1cz Data_size:9690684\n",
      "File_name:1da Data_size:9610601\n",
      "File_name:1db Data_size:9489249\n",
      "File_name:1dc Data_size:8679826\n",
      "File_name:1dd Data_size:9185431\n",
      "File_name:1de Data_size:9821339\n",
      "File_name:1df Data_size:9795958\n",
      "File_name:1dg Data_size:9606568\n",
      "File_name:1dh Data_size:9637793\n",
      "File_name:1di Data_size:9804036\n",
      "File_name:1dj Data_size:9775260\n",
      "File_name:1dk Data_size:9762802\n",
      "File_name:1dl Data_size:7487126\n",
      "Data_size:864794733 Process_time:1838\n"
     ]
    }
   ],
   "source": [
    "size=0\n",
    "start_time=tm.time()\n",
    "for i in range(97,101,1):\n",
    "    for j in range(97,123,1):\n",
    "        file_name='1'+chr(i)+chr(j)\n",
    "        df=pd.read_csv(file_name,sep='\\t')\n",
    "        df['msno_number']=df.groupby(\"msno\")[\"song_id\"].transform(\"count\")\n",
    "        df.to_csv(file_name,sep='\\t',encoding='utf-8',index=False)\n",
    "        size=size+len(df)\n",
    "        print ('File_name:%s Data_size:%d'%(file_name,len(df)))\n",
    "        if(i==100 and j==108):\n",
    "            break\n",
    "end_time=tm.time()-start_time\n",
    "print ('Data_size:%d Process_time:%d'%(size,end_time))"
   ]
  },
  {
   "cell_type": "code",
   "execution_count": null,
   "metadata": {
    "collapsed": true
   },
   "outputs": [],
   "source": []
  }
 ],
 "metadata": {
  "kernelspec": {
   "display_name": "Python 3",
   "language": "python",
   "name": "python3"
  },
  "language_info": {
   "codemirror_mode": {
    "name": "ipython",
    "version": 3
   },
   "file_extension": ".py",
   "mimetype": "text/x-python",
   "name": "python",
   "nbconvert_exporter": "python",
   "pygments_lexer": "ipython3",
   "version": "3.6.3"
  }
 },
 "nbformat": 4,
 "nbformat_minor": 2
}
