{
 "cells": [
  {
   "cell_type": "code",
   "execution_count": 1,
   "metadata": {
    "collapsed": true
   },
   "outputs": [],
   "source": [
    "import numpy as np\n",
    "import pandas as pd\n",
    "import matplotlib.pyplot as plt\n",
    "from sklearn.linear_model import LinearRegression"
   ]
  },
  {
   "cell_type": "code",
   "execution_count": 2,
   "metadata": {},
   "outputs": [
    {
     "data": {
      "text/plain": [
       "(15, 6)"
      ]
     },
     "execution_count": 2,
     "metadata": {},
     "output_type": "execute_result"
    }
   ],
   "source": [
    "data = pd.read_csv('test.csv', index_col=0)\n",
    "data.shape"
   ]
  },
  {
   "cell_type": "code",
   "execution_count": 3,
   "metadata": {},
   "outputs": [
    {
     "data": {
      "text/html": [
       "<div>\n",
       "<style>\n",
       "    .dataframe thead tr:only-child th {\n",
       "        text-align: right;\n",
       "    }\n",
       "\n",
       "    .dataframe thead th {\n",
       "        text-align: left;\n",
       "    }\n",
       "\n",
       "    .dataframe tbody tr th {\n",
       "        vertical-align: top;\n",
       "    }\n",
       "</style>\n",
       "<table border=\"1\" class=\"dataframe\">\n",
       "  <thead>\n",
       "    <tr style=\"text-align: right;\">\n",
       "      <th></th>\n",
       "      <th>temperature_2017</th>\n",
       "      <th>temperature_2016</th>\n",
       "      <th>temperature_2015</th>\n",
       "      <th>temperature_2014</th>\n",
       "      <th>temperature_2013</th>\n",
       "      <th>day</th>\n",
       "    </tr>\n",
       "  </thead>\n",
       "  <tbody>\n",
       "    <tr>\n",
       "      <th>1</th>\n",
       "      <td>30.5</td>\n",
       "      <td>28.9</td>\n",
       "      <td>27.9</td>\n",
       "      <td>24.9</td>\n",
       "      <td>24.9</td>\n",
       "      <td>1</td>\n",
       "    </tr>\n",
       "    <tr>\n",
       "      <th>2</th>\n",
       "      <td>29.5</td>\n",
       "      <td>28.6</td>\n",
       "      <td>25.8</td>\n",
       "      <td>25.6</td>\n",
       "      <td>24.7</td>\n",
       "      <td>2</td>\n",
       "    </tr>\n",
       "    <tr>\n",
       "      <th>3</th>\n",
       "      <td>28.9</td>\n",
       "      <td>26.7</td>\n",
       "      <td>29.8</td>\n",
       "      <td>24.6</td>\n",
       "      <td>22.5</td>\n",
       "      <td>3</td>\n",
       "    </tr>\n",
       "    <tr>\n",
       "      <th>4</th>\n",
       "      <td>26.0</td>\n",
       "      <td>26.2</td>\n",
       "      <td>29.4</td>\n",
       "      <td>23.4</td>\n",
       "      <td>23.5</td>\n",
       "      <td>4</td>\n",
       "    </tr>\n",
       "    <tr>\n",
       "      <th>5</th>\n",
       "      <td>28.2</td>\n",
       "      <td>26.6</td>\n",
       "      <td>29.3</td>\n",
       "      <td>24.3</td>\n",
       "      <td>24.5</td>\n",
       "      <td>5</td>\n",
       "    </tr>\n",
       "  </tbody>\n",
       "</table>\n",
       "</div>"
      ],
      "text/plain": [
       "   temperature_2017  temperature_2016  temperature_2015  temperature_2014  \\\n",
       "1              30.5              28.9              27.9              24.9   \n",
       "2              29.5              28.6              25.8              25.6   \n",
       "3              28.9              26.7              29.8              24.6   \n",
       "4              26.0              26.2              29.4              23.4   \n",
       "5              28.2              26.6              29.3              24.3   \n",
       "\n",
       "   temperature_2013  day  \n",
       "1              24.9    1  \n",
       "2              24.7    2  \n",
       "3              22.5    3  \n",
       "4              23.5    4  \n",
       "5              24.5    5  "
      ]
     },
     "execution_count": 3,
     "metadata": {},
     "output_type": "execute_result"
    }
   ],
   "source": [
    "data.head()"
   ]
  },
  {
   "cell_type": "code",
   "execution_count": 4,
   "metadata": {},
   "outputs": [
    {
     "data": {
      "image/png": "[encoded data removed]",
      "text/plain": [
       "<matplotlib.figure.Figure at 0x150cc9ab860>"
      ]
     },
     "metadata": {},
     "output_type": "display_data"
    }
   ],
   "source": [
    "plt.close()\n",
    "plt.plot(data.day,data.temperature_2017,'ro')\n",
    "plt.plot(data.day,data.temperature_2016,'ro')\n",
    "plt.plot(data.day,data.temperature_2015,'ro')\n",
    "plt.show()"
   ]
  },
  {
   "cell_type": "code",
   "execution_count": 5,
   "metadata": {
    "collapsed": true
   },
   "outputs": [],
   "source": [
    "feature_cols = ['temperature_2017']\n",
    "#feature_cols = ['temperature_2017','temperature_2016','temperature_2015']\n",
    "X = data[['day']]\n",
    "y = data[feature_cols]"
   ]
  },
  {
   "cell_type": "code",
   "execution_count": 6,
   "metadata": {},
   "outputs": [
    {
     "data": {
      "text/plain": [
       "LinearRegression(copy_X=True, fit_intercept=True, n_jobs=1, normalize=False)"
      ]
     },
     "execution_count": 6,
     "metadata": {},
     "output_type": "execute_result"
    }
   ],
   "source": [
    "lm = LinearRegression()\n",
    "lm.fit(X,y)"
   ]
  },
  {
   "cell_type": "code",
   "execution_count": 7,
   "metadata": {},
   "outputs": [
    {
     "name": "stdout",
     "output_type": "stream",
     "text": [
      "[[-0.25107143]]\n",
      "[ 29.8552381]\n"
     ]
    }
   ],
   "source": [
    "print(lm.coef_)\n",
    "print(lm.intercept_)"
   ]
  },
  {
   "cell_type": "code",
   "execution_count": 8,
   "metadata": {},
   "outputs": [
    {
     "name": "stdout",
     "output_type": "stream",
     "text": [
      "[[ 29.60416667]\n",
      " [ 29.35309524]\n",
      " [ 29.10202381]\n",
      " [ 28.85095238]\n",
      " [ 28.59988095]\n",
      " [ 28.34880952]\n",
      " [ 28.0977381 ]\n",
      " [ 27.84666667]\n",
      " [ 27.59559524]\n",
      " [ 27.34452381]\n",
      " [ 27.09345238]\n",
      " [ 26.84238095]\n",
      " [ 26.59130952]\n",
      " [ 26.3402381 ]\n",
      " [ 26.08916667]]\n"
     ]
    }
   ],
   "source": [
    "preds = lm.predict(X)\n",
    "print(preds)"
   ]
  },
  {
   "cell_type": "code",
   "execution_count": 10,
   "metadata": {},
   "outputs": [
    {
     "name": "stdout",
     "output_type": "stream",
     "text": [
      "1     29.353095\n",
      "2     29.102024\n",
      "3     28.850952\n",
      "4     28.599881\n",
      "5     28.348810\n",
      "6     28.097738\n",
      "7     27.846667\n",
      "8     27.595595\n",
      "9     27.344524\n",
      "10    27.093452\n",
      "11    26.842381\n",
      "12    26.591310\n",
      "13    26.340238\n",
      "14    26.089167\n",
      "15    25.838095\n",
      "Name: day, dtype: float64\n"
     ]
    },
    {
     "data": {
      "image/png": "[encoded data removed]",
      "text/plain": [
       "<matplotlib.figure.Figure at 0x150cd070ba8>"
      ]
     },
     "metadata": {},
     "output_type": "display_data"
    }
   ],
   "source": [
    "plt.close()\n",
    "\n",
    "xx=X['day']\n",
    "yy=y\n",
    "\n",
    "x1=data.day[1]\n",
    "y1=preds[1]\n",
    "x2=data.day[14]\n",
    "y2=preds[14]\n",
    "\n",
    "line_eqn = y1+((xx-x1)*(y2-y1)/(x2-x1))\n",
    "print(line_eqn)\n",
    "plt.scatter(xx,yy)\n",
    "plt.plot(xx,line_eqn,'r')\n",
    "\n",
    "plt.show()"
   ]
  },
  {
   "cell_type": "code",
   "execution_count": null,
   "metadata": {
    "collapsed": true
   },
   "outputs": [],
   "source": []
  },
  {
   "cell_type": "code",
   "execution_count": null,
   "metadata": {
    "collapsed": true
   },
   "outputs": [],
   "source": []
  }
 ],
 "metadata": {
  "kernelspec": {
   "display_name": "Python 3",
   "language": "python",
   "name": "python3"
  },
  "language_info": {
   "codemirror_mode": {
    "name": "ipython",
    "version": 3
   },
   "file_extension": ".py",
   "mimetype": "text/x-python",
   "name": "python",
   "nbconvert_exporter": "python",
   "pygments_lexer": "ipython3",
   "version": "3.6.2"
  }
 },
 "nbformat": 4,
 "nbformat_minor": 2
}
